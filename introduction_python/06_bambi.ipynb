{
 "cells": [
  {
   "attachments": {},
   "cell_type": "markdown",
   "metadata": {},
   "source": [
    "## Bayesian GLMs using Bambi\n",
    "\n",
    "We now want to use bayesian methods within a general linear model. We could do this using pymc. In fact we can build almost any model we want using pymc to do inference. However, to get started I would recommend using Bambi to get familiar with the bayesian world. Bambi has two main advantages for newcomers.\n",
    "\n",
    "1. You can write models using the Wilkinson notation (just like in lme4 or brms)\n",
    "2. You dont need to specify priors (which can be a bit intimidating when you are just getting started)\n",
    "\n",
    "Also bambi builds on pymc so transitioning should be easy :)\n",
    "\n",
    "Check out this webpage for some more sophisticated and detailed information on how to get started.\n",
    "\n",
    "https://bambinos.github.io/bambi/notebooks/getting_started.html"
   ]
  },
  {
   "cell_type": "code",
   "execution_count": 1,
   "metadata": {},
   "outputs": [],
   "source": [
    "import bambi as bmb"
   ]
  },
  {
   "cell_type": "code",
   "execution_count": 2,
   "metadata": {},
   "outputs": [],
   "source": [
    "#Some other imports\n",
    "import pandas as pd\n",
    "import arviz as az\n",
    "import matplotlib.pyplot as plt\n",
    "import seaborn as sns\n",
    "\n",
    "sns.set_style('ticks')\n",
    "sns.set_context('poster')"
   ]
  },
  {
   "cell_type": "code",
   "execution_count": 4,
   "metadata": {},
   "outputs": [],
   "source": [
    "df = pd.read_csv('./data/netflix_merged.csv')\n",
    "\n",
    "cols_of_interest = ['Days In Top 10', 'year', 'Netflix Exclusive', 'Viewership Score']\n",
    "\n",
    "df_sel = df[cols_of_interest]\n",
    "df_sel.columns = [key.replace(' ', '_') for key in cols_of_interest] #bambi formulas have some problems with whitespaces"
   ]
  },
  {
   "attachments": {},
   "cell_type": "markdown",
   "metadata": {},
   "source": [
    "## Quick data check\n",
    "\n",
    "Lets look at our data again. We noticed before that \"Days In Top 10\" is not really normally distributed. \n",
    "We can also see that the data represents counts. Counts will always be absolute values starting from 0.\n",
    "A good distribution to model count data is the poisson distribution.\n",
    "\n",
    "See https://www.pymc.io/projects/docs/en/stable/api/distributions/generated/pymc.Poisson.html"
   ]
  },
  {
   "cell_type": "code",
   "execution_count": 6,
   "metadata": {},
   "outputs": [
    {
     "data": {
      "image/png": "[encoded data removed]",
      "text/plain": [
       "<Figure size 640x480 with 1 Axes>"
      ]
     },
     "metadata": {},
     "output_type": "display_data"
    }
   ],
   "source": [
    "plt.hist(df_sel['Days_In_Top_10'])\n",
    "sns.despine()"
   ]
  },
  {
   "cell_type": "code",
   "execution_count": 29,
   "metadata": {},
   "outputs": [],
   "source": [
    "md = bmb.Model(data=df_sel, \n",
    "               formula='Days_In_Top_10 ~ 0 + Netflix_Exclusive', # Adding a 0 fits a model without intercept. Just doing this here to help with visualization later\n",
    "               family='poisson', #family refers to the output variable e.g. \"Days In Top 10\"\n",
    "               link='log') \n",
    "#The link function is used to link the input variables with the distribution of the output variable.\n",
    "#Think of it as a 'scaling' function for the input variables"
   ]
  },
  {
   "cell_type": "code",
   "execution_count": 30,
   "metadata": {},
   "outputs": [
    {
     "name": "stderr",
     "output_type": "stream",
     "text": [
      "Auto-assigning NUTS sampler...\n",
      "Initializing NUTS using jitter+adapt_diag...\n",
      "Multiprocess sampling (2 chains in 2 jobs)\n",
      "NUTS: [Netflix_Exclusive]\n"
     ]
    },
    {
     "name": "stderr",
     "output_type": "stream",
     "text": [
      "Sampling 2 chains for 1_000 tune and 1_000 draw iterations (2_000 + 2_000 draws total) took 26 seconds.\n"
     ]
    }
   ],
   "source": [
    "#now lets press the inference button and run our first model\n",
    "mdf = md.fit()"
   ]
  },
  {
   "attachments": {},
   "cell_type": "markdown",
   "metadata": {},
   "source": [
    "## Lets investigate our model\n",
    "\n",
    "After bambi did its thing we can investigate the outcomes of our analysis using arviz. Arviz is a package that can be used for an exploratory analysis of your model outcomes. Arviz is pretty agnostic and can work with a wide variety of bayesian models.\n",
    "As a first shot its always good to do a summary of our model"
   ]
  },
  {
   "cell_type": "code",
   "execution_count": 31,
   "metadata": {},
   "outputs": [
    {
     "data": {
      "text/html": [
       "<div>\n",
       "<style scoped>\n",
       "    .dataframe tbody tr th:only-of-type {\n",
       "        vertical-align: middle;\n",
       "    }\n",
       "\n",
       "    .dataframe tbody tr th {\n",
       "        vertical-align: top;\n",
       "    }\n",
       "\n",
       "    .dataframe thead th {\n",
       "        text-align: right;\n",
       "    }\n",
       "</style>\n",
       "<table border=\"1\" class=\"dataframe\">\n",
       "  <thead>\n",
       "    <tr style=\"text-align: right;\">\n",
       "      <th></th>\n",
       "      <th>mean</th>\n",
       "      <th>sd</th>\n",
       "      <th>hdi_3%</th>\n",
       "      <th>hdi_97%</th>\n",
       "      <th>mcse_mean</th>\n",
       "      <th>mcse_sd</th>\n",
       "      <th>ess_bulk</th>\n",
       "      <th>ess_tail</th>\n",
       "      <th>r_hat</th>\n",
       "    </tr>\n",
       "  </thead>\n",
       "  <tbody>\n",
       "    <tr>\n",
       "      <th>Netflix_Exclusive[No]</th>\n",
       "      <td>1.868</td>\n",
       "      <td>0.029</td>\n",
       "      <td>1.813</td>\n",
       "      <td>1.922</td>\n",
       "      <td>0.001</td>\n",
       "      <td>0.0</td>\n",
       "      <td>1815.0</td>\n",
       "      <td>1401.0</td>\n",
       "      <td>1.0</td>\n",
       "    </tr>\n",
       "    <tr>\n",
       "      <th>Netflix_Exclusive[Yes]</th>\n",
       "      <td>2.110</td>\n",
       "      <td>0.026</td>\n",
       "      <td>2.062</td>\n",
       "      <td>2.160</td>\n",
       "      <td>0.001</td>\n",
       "      <td>0.0</td>\n",
       "      <td>2234.0</td>\n",
       "      <td>1386.0</td>\n",
       "      <td>1.0</td>\n",
       "    </tr>\n",
       "  </tbody>\n",
       "</table>\n",
       "</div>"
      ],
      "text/plain": [
       "                         mean     sd  hdi_3%  hdi_97%  mcse_mean  mcse_sd  \\\n",
       "Netflix_Exclusive[No]   1.868  0.029   1.813    1.922      0.001      0.0   \n",
       "Netflix_Exclusive[Yes]  2.110  0.026   2.062    2.160      0.001      0.0   \n",
       "\n",
       "                        ess_bulk  ess_tail  r_hat  \n",
       "Netflix_Exclusive[No]     1815.0    1401.0    1.0  \n",
       "Netflix_Exclusive[Yes]    2234.0    1386.0    1.0  "
      ]
     },
     "execution_count": 31,
     "metadata": {},
     "output_type": "execute_result"
    }
   ],
   "source": [
    "az.summary(mdf)"
   ]
  },
  {
   "attachments": {},
   "cell_type": "markdown",
   "metadata": {},
   "source": [
    "In the summary of the first 4 columns (mean, sd, hdi_3%, hdi_97%) we can find descriptive information related to our beta coefficients. The last 3 columns (ess_bulk, ess_tail, r_hat) contain very important information about our model diagnostics.\n",
    "As a rule of thumb we want an rhat < 1.05 and an effective sample size (ess) > 400. For more detailed information see...\n",
    "\n",
    "Vehtari, A., Gelman, A., Simpson, D., Carpenter, B., & Bürkner, P.-C. (2021). Rank-Normalization, Folding, and Localization: An Improved R^ for Assessing Convergence of MCMC (with Discussion). Bayesian Analysis, 16(2). https://doi.org/10.1214/20-BA1221\n",
    "\n",
    "\n"
   ]
  },
  {
   "attachments": {},
   "cell_type": "markdown",
   "metadata": {},
   "source": [
    "## So what does all of that mean??\n",
    "\n",
    "When we fit our model using no intercept (e.g. Days_In_Top_10 ~ 0 + Netflix_Exclusive). We obtain a coefficient for each class of our categorical variables (Yes/No). When we fit our model with an intercept (e.g. Days_In_Top_10 ~ 1 + Netflix_Exclusive) one class is used as the intercept and the beta coefficient for the residual class is to be interpreted in relation to this (i.e. an a beta > 0 means higher than the intercept class and a beta < 0 means lower than the intercept class). In our case it really doesnt matter whether or not we fit with an intercept. I show this below, but also feel free to checkout this example by the bambi people.\n",
    "\n",
    "https://bambinos.github.io/bambi/notebooks/t-test.html\n"
   ]
  },
  {
   "cell_type": "code",
   "execution_count": 33,
   "metadata": {},
   "outputs": [
    {
     "name": "stderr",
     "output_type": "stream",
     "text": [
      "Auto-assigning NUTS sampler...\n",
      "Initializing NUTS using jitter+adapt_diag...\n",
      "Multiprocess sampling (2 chains in 2 jobs)\n",
      "NUTS: [Intercept, Netflix_Exclusive]\n"
     ]
    },
    {
     "data": {
      "text/html": [
       "\n",
       "<style>\n",
       "    /* Turns off some styling */\n",
       "    progress {\n",
       "        /* gets rid of default border in Firefox and Opera. */\n",
       "        border: none;\n",
       "        /* Needs to be in here for Safari polyfill so background images work as expected. */\n",
       "        background-size: auto;\n",
       "    }\n",
       "    progress:not([value]), progress:not([value])::-webkit-progress-bar {\n",
       "        background: repeating-linear-gradient(45deg, #7e7e7e, #7e7e7e 10px, #5c5c5c 10px, #5c5c5c 20px);\n",
       "    }\n",
       "    .progress-bar-interrupted, .progress-bar-interrupted::-webkit-progress-bar {\n",
       "        background: #F44336;\n",
       "    }\n",
       "</style>\n"
      ],
      "text/plain": [
       "<IPython.core.display.HTML object>"
      ]
     },
     "metadata": {},
     "output_type": "display_data"
    },
    {
     "name": "stderr",
     "output_type": "stream",
     "text": [
      "Sampling 2 chains for 1_000 tune and 1_000 draw iterations (2_000 + 2_000 draws total) took 33 seconds.\n"
     ]
    }
   ],
   "source": [
    "mdf2 = bmb.Model(data=df_sel, \n",
    "               formula='Days_In_Top_10 ~ 1 + Netflix_Exclusive',\n",
    "               family='poisson', #family refers to the output variable e.g. \"Days In Top 10\"\n",
    "               link='log').fit()"
   ]
  },
  {
   "cell_type": "code",
   "execution_count": 66,
   "metadata": {},
   "outputs": [
    {
     "data": {
      "text/html": [
       "<div>\n",
       "<style scoped>\n",
       "    .dataframe tbody tr th:only-of-type {\n",
       "        vertical-align: middle;\n",
       "    }\n",
       "\n",
       "    .dataframe tbody tr th {\n",
       "        vertical-align: top;\n",
       "    }\n",
       "\n",
       "    .dataframe thead th {\n",
       "        text-align: right;\n",
       "    }\n",
       "</style>\n",
       "<table border=\"1\" class=\"dataframe\">\n",
       "  <thead>\n",
       "    <tr style=\"text-align: right;\">\n",
       "      <th></th>\n",
       "      <th>mean</th>\n",
       "      <th>sd</th>\n",
       "      <th>hdi_3%</th>\n",
       "      <th>hdi_97%</th>\n",
       "      <th>mcse_mean</th>\n",
       "      <th>mcse_sd</th>\n",
       "      <th>ess_bulk</th>\n",
       "      <th>ess_tail</th>\n",
       "      <th>r_hat</th>\n",
       "    </tr>\n",
       "  </thead>\n",
       "  <tbody>\n",
       "    <tr>\n",
       "      <th>Intercept</th>\n",
       "      <td>1.867</td>\n",
       "      <td>0.031</td>\n",
       "      <td>1.809</td>\n",
       "      <td>1.924</td>\n",
       "      <td>0.001</td>\n",
       "      <td>0.001</td>\n",
       "      <td>1898.0</td>\n",
       "      <td>1280.0</td>\n",
       "      <td>1.0</td>\n",
       "    </tr>\n",
       "    <tr>\n",
       "      <th>Netflix_Exclusive[Yes]</th>\n",
       "      <td>0.242</td>\n",
       "      <td>0.041</td>\n",
       "      <td>0.163</td>\n",
       "      <td>0.318</td>\n",
       "      <td>0.001</td>\n",
       "      <td>0.001</td>\n",
       "      <td>1919.0</td>\n",
       "      <td>1337.0</td>\n",
       "      <td>1.0</td>\n",
       "    </tr>\n",
       "  </tbody>\n",
       "</table>\n",
       "</div>"
      ],
      "text/plain": [
       "                         mean     sd  hdi_3%  hdi_97%  mcse_mean  mcse_sd  \\\n",
       "Intercept               1.867  0.031   1.809    1.924      0.001    0.001   \n",
       "Netflix_Exclusive[Yes]  0.242  0.041   0.163    0.318      0.001    0.001   \n",
       "\n",
       "                        ess_bulk  ess_tail  r_hat  \n",
       "Intercept                 1898.0    1280.0    1.0  \n",
       "Netflix_Exclusive[Yes]    1919.0    1337.0    1.0  "
      ]
     },
     "execution_count": 66,
     "metadata": {},
     "output_type": "execute_result"
    }
   ],
   "source": [
    "az.summary(mdf2)"
   ]
  },
  {
   "cell_type": "code",
   "execution_count": 57,
   "metadata": {},
   "outputs": [
    {
     "data": {
      "text/plain": [
       "<matplotlib.legend.Legend at 0x170b852e0>"
      ]
     },
     "execution_count": 57,
     "metadata": {},
     "output_type": "execute_result"
    },
    {
     "data": {
      "image/png": "[encoded data removed]",
      "text/plain": [
       "<Figure size 640x480 with 2 Axes>"
      ]
     },
     "metadata": {},
     "output_type": "display_data"
    }
   ],
   "source": [
    "#lets visualize the posteriors\n",
    "#Note: small residual differences might be due to sampling\n",
    "fig, axes = plt.subplots(nrows=2)\n",
    "\n",
    "axes[0].hist(mdf.posterior['Netflix_Exclusive'][:,:,0].to_numpy().flatten(), label='Not Exclusive')\n",
    "axes[0].hist(mdf.posterior['Netflix_Exclusive'][:,:,1].to_numpy().flatten(), label='Exclusive')\n",
    "\n",
    "\n",
    "intercept = mdf2.posterior['Intercept'].to_numpy().flatten()\n",
    "exclusive_true = intercept + mdf2.posterior['Netflix_Exclusive'].to_numpy().flatten()\n",
    "\n",
    "axes[1].hist(intercept, label='Not Exclusive')\n",
    "axes[1].hist(exclusive_true, label='Exclusive')\n",
    "\n",
    "plt.legend()"
   ]
  },
  {
   "attachments": {},
   "cell_type": "markdown",
   "metadata": {},
   "source": [
    "## Now lets run the proper model\n",
    "\n",
    "Controlling for the impact of Viewership scores"
   ]
  },
  {
   "cell_type": "code",
   "execution_count": 61,
   "metadata": {},
   "outputs": [
    {
     "name": "stderr",
     "output_type": "stream",
     "text": [
      "Auto-assigning NUTS sampler...\n",
      "Initializing NUTS using jitter+adapt_diag...\n",
      "Multiprocess sampling (2 chains in 2 jobs)\n",
      "NUTS: [Intercept, Netflix_Exclusive, Viewership_Score]\n"
     ]
    },
    {
     "name": "stderr",
     "output_type": "stream",
     "text": [
      "Sampling 2 chains for 1_000 tune and 1_000 draw iterations (2_000 + 2_000 draws total) took 31 seconds.\n"
     ]
    }
   ],
   "source": [
    "md_final = bmb.Model(data=df_sel, \n",
    "                      formula='Days_In_Top_10 ~ 1 + Netflix_Exclusive + Viewership_Score',\n",
    "                      family='poisson', \n",
    "                      link='log')\n",
    "\n",
    "mdf_final = md_final.fit()"
   ]
  },
  {
   "cell_type": "code",
   "execution_count": 62,
   "metadata": {},
   "outputs": [
    {
     "data": {
      "text/html": [
       "<div>\n",
       "<style scoped>\n",
       "    .dataframe tbody tr th:only-of-type {\n",
       "        vertical-align: middle;\n",
       "    }\n",
       "\n",
       "    .dataframe tbody tr th {\n",
       "        vertical-align: top;\n",
       "    }\n",
       "\n",
       "    .dataframe thead th {\n",
       "        text-align: right;\n",
       "    }\n",
       "</style>\n",
       "<table border=\"1\" class=\"dataframe\">\n",
       "  <thead>\n",
       "    <tr style=\"text-align: right;\">\n",
       "      <th></th>\n",
       "      <th>mean</th>\n",
       "      <th>sd</th>\n",
       "      <th>hdi_3%</th>\n",
       "      <th>hdi_97%</th>\n",
       "      <th>mcse_mean</th>\n",
       "      <th>mcse_sd</th>\n",
       "      <th>ess_bulk</th>\n",
       "      <th>ess_tail</th>\n",
       "      <th>r_hat</th>\n",
       "    </tr>\n",
       "  </thead>\n",
       "  <tbody>\n",
       "    <tr>\n",
       "      <th>Intercept</th>\n",
       "      <td>1.453</td>\n",
       "      <td>0.033</td>\n",
       "      <td>1.390</td>\n",
       "      <td>1.514</td>\n",
       "      <td>0.001</td>\n",
       "      <td>0.001</td>\n",
       "      <td>1868.0</td>\n",
       "      <td>1528.0</td>\n",
       "      <td>1.0</td>\n",
       "    </tr>\n",
       "    <tr>\n",
       "      <th>Netflix_Exclusive[Yes]</th>\n",
       "      <td>-0.163</td>\n",
       "      <td>0.044</td>\n",
       "      <td>-0.252</td>\n",
       "      <td>-0.088</td>\n",
       "      <td>0.001</td>\n",
       "      <td>0.001</td>\n",
       "      <td>1567.0</td>\n",
       "      <td>1436.0</td>\n",
       "      <td>1.0</td>\n",
       "    </tr>\n",
       "    <tr>\n",
       "      <th>Viewership_Score</th>\n",
       "      <td>0.020</td>\n",
       "      <td>0.001</td>\n",
       "      <td>0.019</td>\n",
       "      <td>0.021</td>\n",
       "      <td>0.000</td>\n",
       "      <td>0.000</td>\n",
       "      <td>1210.0</td>\n",
       "      <td>1212.0</td>\n",
       "      <td>1.0</td>\n",
       "    </tr>\n",
       "  </tbody>\n",
       "</table>\n",
       "</div>"
      ],
      "text/plain": [
       "                         mean     sd  hdi_3%  hdi_97%  mcse_mean  mcse_sd  \\\n",
       "Intercept               1.453  0.033   1.390    1.514      0.001    0.001   \n",
       "Netflix_Exclusive[Yes] -0.163  0.044  -0.252   -0.088      0.001    0.001   \n",
       "Viewership_Score        0.020  0.001   0.019    0.021      0.000    0.000   \n",
       "\n",
       "                        ess_bulk  ess_tail  r_hat  \n",
       "Intercept                 1868.0    1528.0    1.0  \n",
       "Netflix_Exclusive[Yes]    1567.0    1436.0    1.0  \n",
       "Viewership_Score          1210.0    1212.0    1.0  "
      ]
     },
     "execution_count": 62,
     "metadata": {},
     "output_type": "execute_result"
    }
   ],
   "source": [
    "az.summary(mdf_final)"
   ]
  },
  {
   "attachments": {},
   "cell_type": "markdown",
   "metadata": {},
   "source": [
    "## Netflix does not seem to push its exclusive Titles.\n",
    "\n",
    "Our results show that the previous effect reverses.. \n",
    "After statistically controlling for Viewership Scores we find that Netflix Exclusive shows stay in fact slightly shorter in the top 10 than shows that are not exclusive. \n",
    "\n",
    "Lets quickly do some posterior predictive checks to see how well our model captures the distribution of our data."
   ]
  },
  {
   "cell_type": "code",
   "execution_count": 64,
   "metadata": {},
   "outputs": [
    {
     "data": {
      "text/plain": [
       "<AxesSubplot:xlabel='Days_In_Top_10 / Days_In_Top_10'>"
      ]
     },
     "execution_count": 64,
     "metadata": {},
     "output_type": "execute_result"
    },
    {
     "data": {
      "image/png": "[encoded data removed]",
      "text/plain": [
       "<Figure size 640x480 with 1 Axes>"
      ]
     },
     "metadata": {},
     "output_type": "display_data"
    }
   ],
   "source": [
    "#looks pretty good\n",
    "md_final.predict(mdf_final, kind='pps')\n",
    "az.plot_ppc(mdf_final)"
   ]
  },
  {
   "cell_type": "code",
   "execution_count": null,
   "metadata": {},
   "outputs": [],
   "source": []
  }
 ],
 "metadata": {
  "kernelspec": {
   "display_name": "analysis",
   "language": "python",
   "name": "python3"
  },
  "language_info": {
   "codemirror_mode": {
    "name": "ipython",
    "version": 3
   },
   "file_extension": ".py",
   "mimetype": "text/x-python",
   "name": "python",
   "nbconvert_exporter": "python",
   "pygments_lexer": "ipython3",
   "version": "3.9.15"
  },
  "orig_nbformat": 4
 },
 "nbformat": 4,
 "nbformat_minor": 2
}
